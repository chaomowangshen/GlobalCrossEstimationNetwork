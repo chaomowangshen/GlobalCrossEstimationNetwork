{
 "cells": [
  {
   "cell_type": "code",
   "id": "initial_id",
   "metadata": {
    "collapsed": true,
    "jupyter": {
     "outputs_hidden": true
    },
    "ExecuteTime": {
     "end_time": "2024-09-20T12:21:49.397603Z",
     "start_time": "2024-09-20T12:21:48.659126Z"
    }
   },
   "source": [
    "import  numpy as np\n",
    "import matplotlib.pyplot as plt\n",
    "import pandas as pd\n",
    "import rpy2.robjects as robjects\n",
    "from rpy2.robjects import pandas2ri"
   ],
   "outputs": [],
   "execution_count": 1
  },
  {
   "cell_type": "code",
   "id": "365213a5073f436d",
   "metadata": {
    "ExecuteTime": {
     "end_time": "2024-09-20T12:21:58.171397Z",
     "start_time": "2024-09-20T12:21:50.484903Z"
    }
   },
   "source": [
    "import warnings\n",
    "# 忽视来自torch.nn.functional的特定警告\n",
    "warnings.filterwarnings(\"ignore\")\n",
    "import sys\n",
    "#将上级目录作为根目录，这样就可以直接import data_loader等\n",
    "sys.path.append('..')\n",
    "from model.cen_qb import CEN_QB\n",
    "import torch\n",
    "import torch.nn as nn\n",
    "import torch.nn.functional as F\n",
    "import torch.optim as optim\n",
    "from torch.utils.data import DataLoader, TensorDataset"
   ],
   "outputs": [],
   "execution_count": 2
  },
  {
   "cell_type": "code",
   "id": "564c1672c2b16344",
   "metadata": {
    "ExecuteTime": {
     "end_time": "2024-09-20T12:22:01.266451Z",
     "start_time": "2024-09-20T12:22:01.251452Z"
    }
   },
   "source": [
    "def mean_squared_error(true_values, estimated_values):\n",
    "    return np.mean((true_values.flatten() - estimated_values.flatten()) ** 2)"
   ],
   "outputs": [],
   "execution_count": 3
  },
  {
   "cell_type": "code",
   "id": "b4c024aa9cf69545",
   "metadata": {
    "ExecuteTime": {
     "end_time": "2024-09-20T12:22:03.346226Z",
     "start_time": "2024-09-20T12:22:03.329716Z"
    }
   },
   "source": [
    "class EarlyStopping:\n",
    "    def __init__(self, patience=30, verbose=False,delta=0.001):\n",
    "        \"\"\"\n",
    "        Args:\n",
    "            patience (int): How long to wait after last time validation loss improved.\n",
    "                            Default: 3\n",
    "            verbose (bool): If True, prints a message for each validation loss improvement.\n",
    "                            Default: False\n",
    "            delta (float): Minimum change in the monitored quantity to qualify as an improvement.\n",
    "                           Default: 0\n",
    "        \"\"\"\n",
    "        self.patience = patience\n",
    "        self.verbose = verbose\n",
    "        self.delta = delta\n",
    "        self.best_score = None\n",
    "        self.epochs_no_improve = 0\n",
    "        self.early_stop = False\n",
    "\n",
    "    def __call__(self, val_loss, model,filename='best_model.pth'):\n",
    "        score = -val_loss\n",
    "\n",
    "        if self.best_score is None:\n",
    "            self.best_score = score\n",
    "            self.save_checkpoint(model,filename)\n",
    "        elif score < self.best_score + self.delta:\n",
    "            self.epochs_no_improve += 1\n",
    "            if self.epochs_no_improve >= self.patience:\n",
    "                if self.verbose:\n",
    "                    print(\"Early stopping\")\n",
    "                self.early_stop = True\n",
    "        else:\n",
    "            self.best_score = score\n",
    "            self.save_checkpoint(model,filename)\n",
    "            self.epochs_no_improve = 0\n",
    "\n",
    "    def save_checkpoint(self, model,filename):\n",
    "        '''Saves model when validation loss decreases.'''\n",
    "        if self.verbose:\n",
    "            print(f'Validation loss decreased. Saving model')\n",
    "        torch.save(model.state_dict(),filename)"
   ],
   "outputs": [],
   "execution_count": 4
  },
  {
   "cell_type": "code",
   "id": "cad481daa5e5f066",
   "metadata": {
    "ExecuteTime": {
     "end_time": "2024-09-20T12:22:06.754548Z",
     "start_time": "2024-09-20T12:22:06.705375Z"
    }
   },
   "source": [
    "data=pd.read_csv('../data/实证/processed_data_reversed.csv')\n",
    "data=data.iloc[:,3:]\n",
    "data=data.drop(columns=['Q15'])"
   ],
   "outputs": [],
   "execution_count": 5
  },
  {
   "cell_type": "raw",
   "id": "841445209820b791",
   "metadata": {},
   "source": [
    "data=data.iloc[:,3:]\n",
    "xx=np.array([2,5,6,7,8,10,11,13,14,16,17,19,21,22,23,24,25,26,27,28,30,31,33,34,35,36,37,39,40,41,42,43,44,45,46,47,48,49])-1\n",
    "data=data.iloc[:,xx]"
   ]
  },
  {
   "cell_type": "raw",
   "id": "bcafb2e7cb054061",
   "metadata": {},
   "source": [
    "n_persons = 1000\n",
    "n_items = 40\n",
    "z_true = np.random.randn(n_persons, 1)\n",
    "z_true= np.clip(z_true, -3, 3)\n",
    "# 为每个项目生成区分参数a\n",
    "a_true = np.random.uniform(0.2, 3, (1, n_items))\n",
    "# 为每个项目生成难度参数b\n",
    "b_true = np.random.randn(1, n_items)\n",
    "b_true = np.clip(b_true, -3, 3)\n",
    "# 计算每个人-项目对的正面响应概率\n",
    "p = 1 / (1 + np.exp(-a_true * (z_true - b_true)))\n",
    "# 生成响应矩阵\n",
    "res_mat = np.random.binomial(1, p)\n",
    "data = pd.DataFrame(res_mat)"
   ]
  },
  {
   "cell_type": "code",
   "id": "c87399172d8e4eab",
   "metadata": {
    "ExecuteTime": {
     "end_time": "2024-09-20T12:22:11.743531Z",
     "start_time": "2024-09-20T12:22:11.720529Z"
    }
   },
   "source": [
    "data.head()"
   ],
   "outputs": [
    {
     "data": {
      "text/plain": [
       "    Q1   Q2   Q3   Q4   Q5   Q6   Q7   Q8   Q9  Q10  ...  Q41  Q42  Q43  Q44  \\\n",
       "0  1.0  0.0  1.0  0.0  0.0  1.0  0.0  0.0  0.0  0.0  ...  0.0  1.0  1.0  1.0   \n",
       "1  0.0  0.0  0.0  0.0  0.0  1.0  1.0  0.0  0.0  0.0  ...  1.0  1.0  0.0  0.0   \n",
       "2  1.0  1.0  0.0  1.0  1.0  1.0  1.0  1.0  0.0  1.0  ...  1.0  1.0  1.0  0.0   \n",
       "3  0.0  0.0  1.0  0.0  1.0  1.0  1.0  0.0  1.0  0.0  ...  1.0  0.0  1.0  1.0   \n",
       "4  0.0  0.0  1.0  0.0  1.0  0.0  1.0  1.0  0.0  1.0  ...  0.0  1.0  1.0  1.0   \n",
       "\n",
       "   Q45  Q46  Q47  Q48  Q49  Q50  \n",
       "0  0.0  1.0  1.0  1.0  0.0  1.0  \n",
       "1  0.0  0.0  0.0  0.0  0.0  1.0  \n",
       "2  1.0  1.0  0.0  1.0  1.0  1.0  \n",
       "3  1.0  1.0  1.0  0.0  1.0  1.0  \n",
       "4  1.0  1.0  0.0  1.0  1.0  1.0  \n",
       "\n",
       "[5 rows x 49 columns]"
      ],
      "text/html": [
       "<div>\n",
       "<style scoped>\n",
       "    .dataframe tbody tr th:only-of-type {\n",
       "        vertical-align: middle;\n",
       "    }\n",
       "\n",
       "    .dataframe tbody tr th {\n",
       "        vertical-align: top;\n",
       "    }\n",
       "\n",
       "    .dataframe thead th {\n",
       "        text-align: right;\n",
       "    }\n",
       "</style>\n",
       "<table border=\"1\" class=\"dataframe\">\n",
       "  <thead>\n",
       "    <tr style=\"text-align: right;\">\n",
       "      <th></th>\n",
       "      <th>Q1</th>\n",
       "      <th>Q2</th>\n",
       "      <th>Q3</th>\n",
       "      <th>Q4</th>\n",
       "      <th>Q5</th>\n",
       "      <th>Q6</th>\n",
       "      <th>Q7</th>\n",
       "      <th>Q8</th>\n",
       "      <th>Q9</th>\n",
       "      <th>Q10</th>\n",
       "      <th>...</th>\n",
       "      <th>Q41</th>\n",
       "      <th>Q42</th>\n",
       "      <th>Q43</th>\n",
       "      <th>Q44</th>\n",
       "      <th>Q45</th>\n",
       "      <th>Q46</th>\n",
       "      <th>Q47</th>\n",
       "      <th>Q48</th>\n",
       "      <th>Q49</th>\n",
       "      <th>Q50</th>\n",
       "    </tr>\n",
       "  </thead>\n",
       "  <tbody>\n",
       "    <tr>\n",
       "      <th>0</th>\n",
       "      <td>1.0</td>\n",
       "      <td>0.0</td>\n",
       "      <td>1.0</td>\n",
       "      <td>0.0</td>\n",
       "      <td>0.0</td>\n",
       "      <td>1.0</td>\n",
       "      <td>0.0</td>\n",
       "      <td>0.0</td>\n",
       "      <td>0.0</td>\n",
       "      <td>0.0</td>\n",
       "      <td>...</td>\n",
       "      <td>0.0</td>\n",
       "      <td>1.0</td>\n",
       "      <td>1.0</td>\n",
       "      <td>1.0</td>\n",
       "      <td>0.0</td>\n",
       "      <td>1.0</td>\n",
       "      <td>1.0</td>\n",
       "      <td>1.0</td>\n",
       "      <td>0.0</td>\n",
       "      <td>1.0</td>\n",
       "    </tr>\n",
       "    <tr>\n",
       "      <th>1</th>\n",
       "      <td>0.0</td>\n",
       "      <td>0.0</td>\n",
       "      <td>0.0</td>\n",
       "      <td>0.0</td>\n",
       "      <td>0.0</td>\n",
       "      <td>1.0</td>\n",
       "      <td>1.0</td>\n",
       "      <td>0.0</td>\n",
       "      <td>0.0</td>\n",
       "      <td>0.0</td>\n",
       "      <td>...</td>\n",
       "      <td>1.0</td>\n",
       "      <td>1.0</td>\n",
       "      <td>0.0</td>\n",
       "      <td>0.0</td>\n",
       "      <td>0.0</td>\n",
       "      <td>0.0</td>\n",
       "      <td>0.0</td>\n",
       "      <td>0.0</td>\n",
       "      <td>0.0</td>\n",
       "      <td>1.0</td>\n",
       "    </tr>\n",
       "    <tr>\n",
       "      <th>2</th>\n",
       "      <td>1.0</td>\n",
       "      <td>1.0</td>\n",
       "      <td>0.0</td>\n",
       "      <td>1.0</td>\n",
       "      <td>1.0</td>\n",
       "      <td>1.0</td>\n",
       "      <td>1.0</td>\n",
       "      <td>1.0</td>\n",
       "      <td>0.0</td>\n",
       "      <td>1.0</td>\n",
       "      <td>...</td>\n",
       "      <td>1.0</td>\n",
       "      <td>1.0</td>\n",
       "      <td>1.0</td>\n",
       "      <td>0.0</td>\n",
       "      <td>1.0</td>\n",
       "      <td>1.0</td>\n",
       "      <td>0.0</td>\n",
       "      <td>1.0</td>\n",
       "      <td>1.0</td>\n",
       "      <td>1.0</td>\n",
       "    </tr>\n",
       "    <tr>\n",
       "      <th>3</th>\n",
       "      <td>0.0</td>\n",
       "      <td>0.0</td>\n",
       "      <td>1.0</td>\n",
       "      <td>0.0</td>\n",
       "      <td>1.0</td>\n",
       "      <td>1.0</td>\n",
       "      <td>1.0</td>\n",
       "      <td>0.0</td>\n",
       "      <td>1.0</td>\n",
       "      <td>0.0</td>\n",
       "      <td>...</td>\n",
       "      <td>1.0</td>\n",
       "      <td>0.0</td>\n",
       "      <td>1.0</td>\n",
       "      <td>1.0</td>\n",
       "      <td>1.0</td>\n",
       "      <td>1.0</td>\n",
       "      <td>1.0</td>\n",
       "      <td>0.0</td>\n",
       "      <td>1.0</td>\n",
       "      <td>1.0</td>\n",
       "    </tr>\n",
       "    <tr>\n",
       "      <th>4</th>\n",
       "      <td>0.0</td>\n",
       "      <td>0.0</td>\n",
       "      <td>1.0</td>\n",
       "      <td>0.0</td>\n",
       "      <td>1.0</td>\n",
       "      <td>0.0</td>\n",
       "      <td>1.0</td>\n",
       "      <td>1.0</td>\n",
       "      <td>0.0</td>\n",
       "      <td>1.0</td>\n",
       "      <td>...</td>\n",
       "      <td>0.0</td>\n",
       "      <td>1.0</td>\n",
       "      <td>1.0</td>\n",
       "      <td>1.0</td>\n",
       "      <td>1.0</td>\n",
       "      <td>1.0</td>\n",
       "      <td>0.0</td>\n",
       "      <td>1.0</td>\n",
       "      <td>1.0</td>\n",
       "      <td>1.0</td>\n",
       "    </tr>\n",
       "  </tbody>\n",
       "</table>\n",
       "<p>5 rows × 49 columns</p>\n",
       "</div>"
      ]
     },
     "execution_count": 6,
     "metadata": {},
     "output_type": "execute_result"
    }
   ],
   "execution_count": 6
  },
  {
   "cell_type": "code",
   "id": "f69c1ab71352ff1b",
   "metadata": {
    "ExecuteTime": {
     "end_time": "2024-09-20T12:22:14.692234Z",
     "start_time": "2024-09-20T12:22:14.675229Z"
    }
   },
   "source": [
    "data.shape"
   ],
   "outputs": [
    {
     "data": {
      "text/plain": [
       "(4474, 49)"
      ]
     },
     "execution_count": 7,
     "metadata": {},
     "output_type": "execute_result"
    }
   ],
   "execution_count": 7
  },
  {
   "cell_type": "code",
   "id": "751da83ad5cfd127",
   "metadata": {
    "ExecuteTime": {
     "end_time": "2024-09-20T12:22:21.769895Z",
     "start_time": "2024-09-20T12:22:16.329263Z"
    }
   },
   "source": [
    "pandas2ri.activate()\n",
    "r_data = pandas2ri.py2rpy(data)\n",
    "# 加载 R 代码\n",
    "r_code = \"\"\"\n",
    "library(mirt)\n",
    "\n",
    "# 将数据转换为 mirt 包的格式\n",
    "data_matrix <- as.matrix(data_df)\n",
    "\n",
    "# 拟合2参数IRT模型\n",
    "model <- mirt(data_matrix, 1, itemtype = '2PL')\n",
    "\n",
    "# 获取项目参数（区分度和难度）\n",
    "item_params <- coef(model, IRTpars = TRUE, simplify = TRUE)\n",
    "\n",
    "# 提取 a 和 b 参数\n",
    "a_params <- item_params$items[, 1]\n",
    "b_params <- item_params$items[, 2]\n",
    "\n",
    "# 获取被试的能力参数\n",
    "abilities <- fscores(model)\n",
    "\n",
    "list(a_params = a_params, b_params = b_params, abilities = abilities)\n",
    "\"\"\"\n",
    "\n",
    "# 在 R 中运行代码\n",
    "r_globals = robjects.globalenv\n",
    "r_globals['data_df'] = r_data\n",
    "result = robjects.r(r_code)\n",
    "\n",
    "# 获取结果\n",
    "a_params = np.array(result.rx2('a_params'))\n",
    "b_params = np.array(result.rx2('b_params'))\n",
    "abilities = np.array(result.rx2('abilities')).flatten()"
   ],
   "outputs": [
    {
     "name": "stderr",
     "output_type": "stream",
     "text": [
      "R[write to console]: Loading required package: stats4\n",
      "\n",
      "R[write to console]: Loading required package: lattice\n",
      "\n"
     ]
    },
    {
     "name": "stdout",
     "output_type": "stream",
     "text": [
      "Iteration: 67, Log-Lik: -114658.919, Max-Change: 0.00006\n"
     ]
    }
   ],
   "execution_count": 8
  },
  {
   "cell_type": "code",
   "id": "6e72b47164909fc9",
   "metadata": {
    "ExecuteTime": {
     "end_time": "2024-09-20T12:22:24.794146Z",
     "start_time": "2024-09-20T12:22:24.775135Z"
    }
   },
   "source": [
    "a_params"
   ],
   "outputs": [
    {
     "data": {
      "text/plain": [
       "array([0.75000301, 0.83498844, 0.53259139, 0.85181293, 0.609033  ,\n",
       "       1.09423345, 0.81953197, 0.83676573, 0.46010758, 0.64105106,\n",
       "       1.98986994, 0.63653307, 0.80317123, 0.94150523, 0.64128826,\n",
       "       0.87667421, 0.87647155, 0.43792475, 0.42414907, 0.94613641,\n",
       "       1.16093123, 0.95704079, 0.92716916, 1.24364107, 1.13097812,\n",
       "       2.93717152, 2.02533393, 1.31451671, 0.93701813, 2.22975514,\n",
       "       1.43109476, 1.25395447, 0.97142372, 0.72575409, 1.95947455,\n",
       "       1.77739798, 1.20184738, 1.18539003, 1.76187247, 1.19586721,\n",
       "       1.2488203 , 1.39133056, 0.77164226, 1.66902887, 2.076815  ,\n",
       "       1.71308718, 2.21428523, 1.57820706, 1.42289602])"
      ]
     },
     "execution_count": 9,
     "metadata": {},
     "output_type": "execute_result"
    }
   ],
   "execution_count": 9
  },
  {
   "metadata": {
    "ExecuteTime": {
     "end_time": "2024-09-20T12:22:32.292884Z",
     "start_time": "2024-09-20T12:22:32.273338Z"
    }
   },
   "cell_type": "code",
   "source": "b_params",
   "id": "61ae2b52573d2b83",
   "outputs": [
    {
     "data": {
      "text/plain": [
       "array([-0.96429274,  0.61737237, -1.63801707,  0.09864452, -1.18831292,\n",
       "       -1.48670588, -1.51569376,  0.62408643,  0.3403995 , -0.24088293,\n",
       "       -1.35758101, -0.78547903,  1.24656899,  0.80000307, -0.22090504,\n",
       "       -0.67481586, -1.36558197,  0.64725027,  0.62179166,  0.14347012,\n",
       "       -1.38632611, -0.3729968 , -0.3182046 , -0.71987758, -1.48994878,\n",
       "       -1.49243411, -1.2732238 , -0.54530359, -0.19479598, -1.04865675,\n",
       "       -0.60731901, -0.9652635 , -0.19508489, -1.29852885, -1.28054664,\n",
       "       -1.60876459, -1.40168937, -0.54953268, -1.1270652 , -0.8495768 ,\n",
       "       -1.84245186, -1.30023061, -0.50916119, -0.59945438, -0.7037015 ,\n",
       "       -0.77562566, -0.8421408 , -0.4830899 , -1.68740762])"
      ]
     },
     "execution_count": 10,
     "metadata": {},
     "output_type": "execute_result"
    }
   ],
   "execution_count": 10
  },
  {
   "metadata": {},
   "cell_type": "raw",
   "source": [
    "ab=pd.DataFrame(np.column_stack((a_params,b_params)))\n",
    "ab.to_csv('ab.csv',index=False)"
   ],
   "id": "a03716abb137222d"
  },
  {
   "cell_type": "code",
   "execution_count": 10,
   "id": "8bcdd526065d00a7",
   "metadata": {
    "ExecuteTime": {
     "end_time": "2024-06-26T06:22:14.749393Z",
     "start_time": "2024-06-26T06:22:12.804664Z"
    }
   },
   "outputs": [],
   "source": [
    "n_item = data.shape[1]\n",
    "n_person = data.shape[0]\n",
    "res_mat=torch.from_numpy(data.values).float()\n",
    "depth=5\n",
    "activation='tanh'\n",
    "device = torch.device('cuda' if torch.cuda.is_available() else 'cpu')\n",
    "lr=0.0001\n",
    "early_stopping_count=30\n",
    "epochs=5000"
   ]
  },
  {
   "cell_type": "code",
   "execution_count": 11,
   "id": "3ceff1de13f76a8a",
   "metadata": {
    "ExecuteTime": {
     "end_time": "2024-06-26T06:24:43.394240Z",
     "start_time": "2024-06-26T06:22:14.755148Z"
    }
   },
   "outputs": [],
   "source": [
    "model=CEN_QB(n_item,n_person,depth,activation).to(device)\n",
    "optimizer = optim.Adam(model.parameters(), lr=lr)\n",
    "loss_fn = nn.BCELoss()\n",
    "early_stopping = EarlyStopping(patience=early_stopping_count, verbose=False)\n",
    "for epoch in range(epochs):\n",
    "    res_mat = res_mat.clone().to(device)\n",
    "    res_mat_item = res_mat.clone().T.to(device)\n",
    "    label = res_mat.flatten().to(device)\n",
    "    model.train()\n",
    "    optimizer.zero_grad()\n",
    "    pred = model(res_mat, res_mat_item).flatten()\n",
    "    loss = loss_fn(pred, label)\n",
    "    loss.backward()\n",
    "    optimizer.step()\n",
    "    loss_value=loss.item()\n",
    "    early_stopping(loss_value, model)\n",
    "    "
   ]
  },
  {
   "cell_type": "code",
   "execution_count": 12,
   "id": "ec51327aa65c61f2",
   "metadata": {
    "ExecuteTime": {
     "end_time": "2024-06-26T06:24:43.485304Z",
     "start_time": "2024-06-26T06:24:43.400241Z"
    }
   },
   "outputs": [],
   "source": [
    "model.load_state_dict(torch.load('best_model.pth'))\n",
    "z=model.person_net(res_mat).cpu().detach().numpy().flatten()\n",
    "a,b=model.item_net(res_mat_item)\n",
    "a=a.cpu().detach().numpy().flatten()\n",
    "b=b.cpu().detach().numpy().flatten()"
   ]
  },
  {
   "cell_type": "code",
   "execution_count": 13,
   "id": "6ab6f6a144c32c12",
   "metadata": {
    "ExecuteTime": {
     "end_time": "2024-06-26T06:24:43.517307Z",
     "start_time": "2024-06-26T06:24:43.491246Z"
    }
   },
   "outputs": [
    {
     "data": {
      "text/plain": [
       "array([-0.9294565 ,  0.57636243, -1.5966182 ,  0.09420068, -1.1546054 ,\n",
       "       -1.4558663 , -1.470963  ,  0.5773483 ,  0.31691325, -0.22802326,\n",
       "       -1.3509654 , -0.73952585,  1.1364286 ,  0.73761666, -0.20494495,\n",
       "       -0.64184594, -1.3211046 ,  0.6197749 ,  0.5935355 ,  0.13634036,\n",
       "       -1.3597102 , -0.3510999 , -0.3001352 , -0.6947282 , -1.4623051 ,\n",
       "       -1.571747  , -1.2644024 , -0.52618766, -0.18274392, -1.0444252 ,\n",
       "       -0.5867896 , -0.9433911 , -0.18258399, -1.2538173 , -1.2702107 ,\n",
       "       -1.5971979 , -1.382957  , -0.52871263, -1.1127963 , -0.82476836,\n",
       "       -1.8304163 , -1.2825294 , -0.48924786, -0.5823757 , -0.6890669 ,\n",
       "       -0.7574769 , -0.8317453 , -0.46557176, -1.6648021 ], dtype=float32)"
      ]
     },
     "execution_count": 13,
     "metadata": {},
     "output_type": "execute_result"
    }
   ],
   "source": [
    "b"
   ]
  },
  {
   "cell_type": "code",
   "execution_count": 14,
   "id": "58e7732690c6ece",
   "metadata": {
    "ExecuteTime": {
     "end_time": "2024-06-26T06:24:43.549315Z",
     "start_time": "2024-06-26T06:24:43.529292Z"
    }
   },
   "outputs": [
    {
     "data": {
      "text/plain": [
       "array([-0.96429274,  0.61737237, -1.63801707,  0.09864452, -1.18831292,\n",
       "       -1.48670588, -1.51569376,  0.62408643,  0.3403995 , -0.24088293,\n",
       "       -1.35758101, -0.78547903,  1.24656899,  0.80000307, -0.22090504,\n",
       "       -0.67481586, -1.36558197,  0.64725027,  0.62179166,  0.14347012,\n",
       "       -1.38632611, -0.3729968 , -0.3182046 , -0.71987758, -1.48994878,\n",
       "       -1.49243411, -1.2732238 , -0.54530359, -0.19479598, -1.04865675,\n",
       "       -0.60731901, -0.9652635 , -0.19508489, -1.29852885, -1.28054664,\n",
       "       -1.60876459, -1.40168937, -0.54953268, -1.1270652 , -0.8495768 ,\n",
       "       -1.84245186, -1.30023061, -0.50916119, -0.59945438, -0.7037015 ,\n",
       "       -0.77562566, -0.8421408 , -0.4830899 , -1.68740762])"
      ]
     },
     "execution_count": 14,
     "metadata": {},
     "output_type": "execute_result"
    }
   ],
   "source": [
    "b_params"
   ]
  },
  {
   "cell_type": "code",
   "execution_count": 15,
   "id": "d151e42c189154cb",
   "metadata": {
    "ExecuteTime": {
     "end_time": "2024-06-26T06:24:43.579241Z",
     "start_time": "2024-06-26T06:24:43.555241Z"
    }
   },
   "outputs": [
    {
     "data": {
      "text/plain": [
       "array([ 0.03483627, -0.04100994,  0.04139889, -0.00444384,  0.03370753,\n",
       "        0.03083954,  0.04473076, -0.04673814, -0.02348625,  0.01285967,\n",
       "        0.00661563,  0.04595317, -0.1101404 , -0.06238641,  0.01596009,\n",
       "        0.03296992,  0.04447732, -0.0274754 , -0.02825618, -0.00712976,\n",
       "        0.0266159 ,  0.02189689,  0.01806941,  0.02514938,  0.02764371,\n",
       "       -0.07931284,  0.00882141,  0.01911593,  0.01205206,  0.0042315 ,\n",
       "        0.0205294 ,  0.02187241,  0.0125009 ,  0.04471153,  0.0103359 ,\n",
       "        0.0115667 ,  0.01873239,  0.02082005,  0.0142689 ,  0.02480844,\n",
       "        0.01203553,  0.01770125,  0.01991334,  0.01707868,  0.01463461,\n",
       "        0.01814874,  0.01039547,  0.01751814,  0.02260554])"
      ]
     },
     "execution_count": 15,
     "metadata": {},
     "output_type": "execute_result"
    }
   ],
   "source": [
    "b-b_params"
   ]
  },
  {
   "cell_type": "code",
   "execution_count": 16,
   "id": "23068263238a79f0",
   "metadata": {
    "ExecuteTime": {
     "end_time": "2024-06-26T06:24:43.610241Z",
     "start_time": "2024-06-26T06:24:43.585249Z"
    }
   },
   "outputs": [
    {
     "data": {
      "text/plain": [
       "0.9920404632414043"
      ]
     },
     "execution_count": 16,
     "metadata": {},
     "output_type": "execute_result"
    }
   ],
   "source": [
    "np.corrcoef(a_params, a)[0, 1]"
   ]
  },
  {
   "cell_type": "code",
   "execution_count": 17,
   "id": "cf382b393f83e30e",
   "metadata": {
    "ExecuteTime": {
     "end_time": "2024-06-26T06:24:43.641304Z",
     "start_time": "2024-06-26T06:24:43.614246Z"
    }
   },
   "outputs": [
    {
     "data": {
      "text/plain": [
       "0.9994619993893855"
      ]
     },
     "execution_count": 17,
     "metadata": {},
     "output_type": "execute_result"
    }
   ],
   "source": [
    "np.corrcoef(b_params, b)[0, 1]"
   ]
  },
  {
   "cell_type": "code",
   "execution_count": 18,
   "id": "9e24400c231ec44f",
   "metadata": {
    "ExecuteTime": {
     "end_time": "2024-06-26T06:24:43.687302Z",
     "start_time": "2024-06-26T06:24:43.653342Z"
    }
   },
   "outputs": [
    {
     "data": {
      "text/plain": [
       "0.9956803251342584"
      ]
     },
     "execution_count": 18,
     "metadata": {},
     "output_type": "execute_result"
    }
   ],
   "source": [
    "np.corrcoef(abilities, z)[0, 1]"
   ]
  },
  {
   "cell_type": "code",
   "execution_count": 20,
   "id": "9da9ece971bf574c",
   "metadata": {
    "ExecuteTime": {
     "end_time": "2024-06-26T06:30:47.432220Z",
     "start_time": "2024-06-26T06:30:45.202621Z"
    }
   },
   "outputs": [
    {
     "data": {
      "image/png": "[encoded data removed]",
      "text/plain": [
       "<Figure size 1200x1400 with 3 Axes>"
      ]
     },
     "metadata": {},
     "output_type": "display_data"
    }
   ],
   "source": [
    "# 计算每个参数的 MSE 和偏差\n",
    "mse_a = mean_squared_error(a_params, a)\n",
    "mse_b = mean_squared_error(b_params, b)\n",
    "mse_theta = mean_squared_error(abilities,z)\n",
    "\n",
    "bias_a = np.mean( a- a_params)\n",
    "bias_b = np.mean(b - b_params)\n",
    "bias_theta = np.mean(z - abilities)\n",
    "\n",
    "correlation_a = np.corrcoef(a_params, a)[0, 1]\n",
    "correlation_b = np.corrcoef(b_params, b)[0, 1]\n",
    "correlation_theta = np.corrcoef(abilities,z)[0, 1]\n",
    "\n",
    "# 创建图形\n",
    "fig = plt.figure(figsize=(12, 14))\n",
    "# 区分度 (a 参数)\n",
    "ax1 = fig.add_subplot(2, 2, 1)\n",
    "ax1.scatter(a_params, a, c='blue', alpha=0.5)\n",
    "ax1.plot([0, 3], [0, 3], 'k--')\n",
    "ax1.set_xlim(0, 3)\n",
    "ax1.set_ylim(0, 3)\n",
    "ax1.set_xlabel(r'$a_{MMLE}$')\n",
    "ax1.set_ylabel(r'$a_{QCEN}$')\n",
    "ax1.set_aspect('equal', adjustable='box')\n",
    "ax1.set_title(f'$r = {correlation_a:.3f}; Bias = {bias_a:.3f}; MSE = {mse_a:.3f}$')\n",
    "ax1.text(0.5, -0.15, '(a) Discrimination', ha='center', transform=ax1.transAxes)\n",
    "\n",
    "# 难度 (b 参数)\n",
    "ax2 = fig.add_subplot(2, 2, 2)\n",
    "ax2.scatter(b_params, b, c='green', alpha=0.5)\n",
    "ax2.plot([-3, 3], [-3, 3], 'k--')\n",
    "ax2.set_xlim(-3, 3)\n",
    "ax2.set_ylim(-3, 3)\n",
    "ax2.set_xlabel(r'$b_{MMLE}$')\n",
    "ax2.set_ylabel(r'$b_{QCEN}$')\n",
    "ax2.set_aspect('equal', adjustable='box')\n",
    "ax2.set_title(f'$r = {correlation_b:.3f}; Bias = {bias_b:.3f}; MSE = {mse_b:.3f}$')\n",
    "ax2.text(0.5, -0.15, '(b) Difficulty', ha='center', transform=ax2.transAxes)\n",
    "\n",
    "# 能力参数 (theta)\n",
    "ax3 = fig.add_subplot(2, 1, 2)\n",
    "ax3.scatter(abilities, z, c='red', alpha=0.5)\n",
    "ax3.plot([-3, 3], [-3, 3], 'k--')\n",
    "ax3.set_xlim(-3, 3)\n",
    "ax3.set_ylim(-3, 3)\n",
    "ax3.set_xlabel(r'$z_{MMLE}$')\n",
    "ax3.set_ylabel(r'$z_{QCEN}$')\n",
    "ax3.set_aspect('equal', adjustable='box')\n",
    "ax3.set_title(f'$r = {correlation_theta:.3f}; Bias = {bias_theta:.3f}; MSE = {mse_theta:.3f}$')\n",
    "ax3.text(0.5, -0.15, '(c) Ability', ha='center', transform=ax3.transAxes)\n",
    "\n",
    "# 调整布局，增加上下子图之间的间距\n",
    "plt.tight_layout(rect=[0, 0.04, 1, 1], h_pad=2)\n",
    "plt.savefig('实证研究.png')\n",
    "plt.show()"
   ]
  },
  {
   "cell_type": "raw",
   "id": "f39de0602c6aa18c",
   "metadata": {},
   "source": [
    "# 计算每个参数的 MSE 和偏差\n",
    "mse_a = mean_squared_error(a_true.flatten(),a_params)\n",
    "mse_b = mean_squared_error( b_true.flatten(),b_params)\n",
    "mse_theta = mean_squared_error(z_true.flatten(),abilities)\n",
    "\n",
    "bias_a = np.mean( a_true.flatten()- a_params)\n",
    "bias_b = np.mean(b_true.flatten() - b_params)\n",
    "bias_theta = np.mean(z_true.flatten() - abilities)\n",
    "\n",
    "correlation_a = np.corrcoef(a_params, a_true.flatten())[0, 1]\n",
    "correlation_b = np.corrcoef(b_params,b_true.flatten() )[0, 1]\n",
    "correlation_theta = np.corrcoef(abilities,z_true.flatten())[0, 1]\n",
    "\n",
    "# 创建图形\n",
    "fig = plt.figure(figsize=(12, 14))\n",
    "# 区分度 (a 参数)\n",
    "ax1 = fig.add_subplot(2, 2, 1)\n",
    "ax1.scatter(a_true.flatten(),a_params, c='blue', alpha=0.5)\n",
    "ax1.plot([0, 3], [0, 3], 'k--')\n",
    "ax1.set_xlim(0, 3)\n",
    "ax1.set_ylim(0, 3)\n",
    "ax1.set_xlabel(r'$a_{True}$')\n",
    "ax1.set_ylabel(r'$a_{Estimated}$')\n",
    "ax1.set_aspect('equal', adjustable='box')\n",
    "ax1.set_title(f'$r = {correlation_a:.3f}; Bias = {bias_a:.3f}; MSE = {mse_a:.3f}$')\n",
    "ax1.text(0.5, -0.15, '(a) Discrimination', ha='center', transform=ax1.transAxes)\n",
    "\n",
    "# 难度 (b 参数)\n",
    "ax2 = fig.add_subplot(2, 2, 2)\n",
    "ax2.scatter(b_true.flatten(),b_params, c='green', alpha=0.5)\n",
    "ax2.plot([-3, 3], [-3, 3], 'k--')\n",
    "ax2.set_xlim(-3, 3)\n",
    "ax2.set_ylim(-3, 3)\n",
    "ax2.set_xlabel(r'$b_{True}$')\n",
    "ax2.set_ylabel(r'$b_{Estimated}$')\n",
    "ax2.set_aspect('equal', adjustable='box')\n",
    "ax2.set_title(f'$r = {correlation_b:.3f}; Bias = {bias_b:.3f}; MSE = {mse_b:.3f}$')\n",
    "ax2.text(0.5, -0.15, '(b) Difficulty', ha='center', transform=ax2.transAxes)\n",
    "\n",
    "# 能力参数 (theta)\n",
    "ax3 = fig.add_subplot(2, 1, 2)\n",
    "ax3.scatter(z_true.flatten(),abilities, c='red', alpha=0.5)\n",
    "ax3.plot([-3, 3], [-3, 3], 'k--')\n",
    "ax3.set_xlim(-3, 3)\n",
    "ax3.set_ylim(-3, 3)\n",
    "ax3.set_xlabel(r'$\\theta_{True}$')\n",
    "ax3.set_ylabel(r'$\\theta_{Estimated}$')\n",
    "ax3.set_aspect('equal', adjustable='box')\n",
    "ax3.set_title(f'$r = {correlation_theta:.3f}; Bias = {bias_theta:.3f}; MSE = {mse_theta:.3f}$')\n",
    "ax3.text(0.5, -0.15, '(c) Ability', ha='center', transform=ax3.transAxes)\n",
    "\n",
    "# 调整布局，增加上下子图之间的间距\n",
    "plt.tight_layout(rect=[0, 0.04, 1, 1], h_pad=2)\n",
    "plt.show()"
   ]
  },
  {
   "cell_type": "raw",
   "id": "4c91e356e1ad4b84",
   "metadata": {},
   "source": [
    "mse_a = mean_squared_error(a_true.flatten(),a)\n",
    "mse_b = mean_squared_error(b_true.flatten(),b)\n",
    "mse_theta = mean_squared_error(z_true.flatten(),z)\n",
    "\n",
    "bias_a = np.mean( a_true.flatten()- a)\n",
    "bias_b = np.mean(b_true.flatten() - b)\n",
    "bias_theta = np.mean(z_true.flatten() - z)\n",
    "\n",
    "correlation_a = np.corrcoef(a, a_true.flatten())[0, 1]\n",
    "correlation_b = np.corrcoef(b,b_true.flatten() )[0, 1]\n",
    "correlation_theta = np.corrcoef(z,z_true.flatten())[0, 1]\n",
    "\n",
    "# 创建图形\n",
    "fig = plt.figure(figsize=(12, 14))\n",
    "# 区分度 (a 参数)\n",
    "ax1 = fig.add_subplot(2, 2, 1)\n",
    "ax1.scatter(a_true.flatten(),a, c='blue', alpha=0.5)\n",
    "ax1.plot([0, 3], [0, 3], 'k--')\n",
    "ax1.set_xlim(0, 3)\n",
    "ax1.set_ylim(0, 3)\n",
    "ax1.set_xlabel(r'$a_{True}$')\n",
    "ax1.set_ylabel(r'$a_{Estimated}$')\n",
    "ax1.set_aspect('equal', adjustable='box')\n",
    "ax1.set_title(f'$r = {correlation_a:.3f}; Bias = {bias_a:.3f}; MSE = {mse_a:.3f}$')\n",
    "ax1.text(0.5, -0.15, '(a) Discrimination', ha='center', transform=ax1.transAxes)\n",
    "\n",
    "# 难度 (b 参数)\n",
    "ax2 = fig.add_subplot(2, 2, 2)\n",
    "ax2.scatter(b_true.flatten(),b, c='green', alpha=0.5)\n",
    "ax2.plot([-3, 3], [-3, 3], 'k--')\n",
    "ax2.set_xlim(-3, 3)\n",
    "ax2.set_ylim(-3, 3)\n",
    "ax2.set_xlabel(r'$b_{True}$')\n",
    "ax2.set_ylabel(r'$b_{Estimated}$')\n",
    "ax2.set_aspect('equal', adjustable='box')\n",
    "ax2.set_title(f'$r = {correlation_b:.3f}; Bias = {bias_b:.3f}; MSE = {mse_b:.3f}$')\n",
    "ax2.text(0.5, -0.15, '(b) Difficulty', ha='center', transform=ax2.transAxes)\n",
    "\n",
    "# 能力参数 (theta)\n",
    "ax3 = fig.add_subplot(2, 1, 2)\n",
    "ax3.scatter(z_true.flatten(),z, c='red', alpha=0.5)\n",
    "ax3.plot([-3, 3], [-3, 3], 'k--')\n",
    "ax3.set_xlim(-3, 3)\n",
    "ax3.set_ylim(-3, 3)\n",
    "ax3.set_xlabel(r'$\\theta_{True}$')\n",
    "ax3.set_ylabel(r'$\\theta_{Estimated}$')\n",
    "ax3.set_aspect('equal', adjustable='box')\n",
    "ax3.set_title(f'$r = {correlation_theta:.3f}; Bias = {bias_theta:.3f}; MSE = {mse_theta:.3f}$')\n",
    "ax3.text(0.5, -0.15, '(c) Ability', ha='center', transform=ax3.transAxes)\n",
    "\n",
    "# 调整布局，增加上下子图之间的间距\n",
    "plt.tight_layout(rect=[0, 0.04, 1, 1], h_pad=2)\n",
    "plt.show()"
   ]
  },
  {
   "cell_type": "code",
   "execution_count": null,
   "id": "7038777713c710dc",
   "metadata": {
    "ExecuteTime": {
     "end_time": "2024-06-26T06:24:57.696782Z",
     "start_time": "2024-06-26T06:24:57.695734Z"
    }
   },
   "outputs": [],
   "source": []
  }
 ],
 "metadata": {
  "kernelspec": {
   "display_name": "Python 3 (ipykernel)",
   "language": "python",
   "name": "python3"
  },
  "language_info": {
   "codemirror_mode": {
    "name": "ipython",
    "version": 3
   },
   "file_extension": ".py",
   "mimetype": "text/x-python",
   "name": "python",
   "nbconvert_exporter": "python",
   "pygments_lexer": "ipython3",
   "version": "3.10.14"
  }
 },
 "nbformat": 4,
 "nbformat_minor": 5
}
